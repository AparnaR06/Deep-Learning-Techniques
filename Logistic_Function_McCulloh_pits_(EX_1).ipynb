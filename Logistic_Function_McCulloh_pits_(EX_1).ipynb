{
  "nbformat": 4,
  "nbformat_minor": 0,
  "metadata": {
    "colab": {
      "provenance": [],
      "authorship_tag": "ABX9TyOHE7VRtGT4wJHncpdovWs0",
      "include_colab_link": true
    },
    "kernelspec": {
      "name": "python3",
      "display_name": "Python 3"
    },
    "language_info": {
      "name": "python"
    }
  },
  "cells": [
    {
      "cell_type": "markdown",
      "metadata": {
        "id": "view-in-github",
        "colab_type": "text"
      },
      "source": [
        "<a href=\"https://colab.research.google.com/github/AparnaR06/Deep-Learning-Techniques/blob/main/Logistic_Function_McCulloh_pits_(EX_1).ipynb\" target=\"_parent\"><img src=\"https://colab.research.google.com/assets/colab-badge.svg\" alt=\"Open In Colab\"/></a>"
      ]
    },
    {
      "cell_type": "code",
      "execution_count": 1,
      "metadata": {
        "colab": {
          "base_uri": "https://localhost:8080/"
        },
        "id": "RHxnTdUrFqcn",
        "outputId": "4a6abf5c-24d4-49cf-908c-6cd0a397ccef"
      },
      "outputs": [
        {
          "output_type": "stream",
          "name": "stdout",
          "text": [
            "AND\n",
            "(0, 0) -> 0\n",
            "(0, 1) -> 0\n",
            "(1, 0) -> 0\n",
            "(1, 1) -> 1\n",
            "\n",
            "OR\n",
            "(0, 0) -> 0\n",
            "(0, 1) -> 1\n",
            "(1, 0) -> 1\n",
            "(1, 1) -> 1\n",
            "\n",
            "NOT\n",
            "0 -> 1\n",
            "1 -> 0\n",
            "\n",
            "NOR\n",
            "(0, 0) -> 1\n",
            "(0, 1) -> 0\n",
            "(1, 0) -> 0\n",
            "(1, 1) -> 0\n",
            "\n",
            "XOR\n",
            "(0, 0) -> 0\n",
            "(0, 1) -> 1\n",
            "(1, 0) -> 1\n",
            "(1, 1) -> 0\n"
          ]
        }
      ],
      "source": [
        "# MCP Neuron Function\n",
        "def mcp_neuron(inputs, weights, threshold):\n",
        "    summation = sum(i * w for i, w in zip(inputs, weights))\n",
        "    return 1 if summation >= threshold else 0\n",
        "\n",
        "# Logic Gates\n",
        "def AND(x1, x2):\n",
        "    return mcp_neuron([x1, x2], [1, 1], 2)\n",
        "\n",
        "def OR(x1, x2):\n",
        "    return mcp_neuron([x1, x2], [1, 1], 1)\n",
        "\n",
        "def NOT(x1):\n",
        "    return mcp_neuron([x1], [-1], 0)\n",
        "\n",
        "def NOR(x1, x2):\n",
        "    return mcp_neuron([x1, x2], [-1, -1], 0)\n",
        "\n",
        "def XOR(x1, x2):\n",
        "    return x1 ^ x2  # XOR can't be implemented by a single-layer MCP\n",
        "\n",
        "# Testing\n",
        "print(\"AND\")\n",
        "for x in [(0, 0), (0, 1), (1, 0), (1, 1)]:\n",
        "    print(f\"{x} -> {AND(*x)}\")\n",
        "\n",
        "print(\"\\nOR\")\n",
        "for x in [(0, 0), (0, 1), (1, 0), (1, 1)]:\n",
        "    print(f\"{x} -> {OR(*x)}\")\n",
        "\n",
        "print(\"\\nNOT\")\n",
        "for x in [0, 1]:\n",
        "    print(f\"{x} -> {NOT(x)}\")\n",
        "\n",
        "print(\"\\nNOR\")\n",
        "for x in [(0, 0), (0, 1), (1, 0), (1, 1)]:\n",
        "    print(f\"{x} -> {NOR(*x)}\")\n",
        "\n",
        "print(\"\\nXOR\")\n",
        "for x in [(0, 0), (0, 1), (1, 0), (1, 1)]:\n",
        "    print(f\"{x} -> {XOR(*x)}\")\n"
      ]
    }
  ]
}